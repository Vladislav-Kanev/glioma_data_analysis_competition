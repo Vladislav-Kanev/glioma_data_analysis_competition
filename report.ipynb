{
 "cells": [
  {
   "cell_type": "markdown",
   "metadata": {},
   "source": [
    "# Glioma Grading Clinical and Mutation Features"
   ]
  },
  {
   "cell_type": "code",
   "execution_count": 1,
   "metadata": {},
   "outputs": [],
   "source": [
    "from pathlib import Path\n",
    "\n",
    "import pandas as pd\n",
    "\n",
    "from src.data_processing import convert_age, encode_dataset, normalize_dataset\n",
    "from src.feature_estimators import get_feature_estimator, select_by_correlation_value, concat_important_features"
   ]
  },
  {
   "cell_type": "markdown",
   "metadata": {},
   "source": [
    "# Data processing\n",
    "---"
   ]
  },
  {
   "cell_type": "code",
   "execution_count": null,
   "metadata": {},
   "outputs": [],
   "source": [
    "DATASETS_PATH = Path('datasets')\n",
    "train_dataset_path = DATASETS_PATH / 'train.csv'\n",
    "test_dataset_path = DATASETS_PATH / 'test.csv'"
   ]
  },
  {
   "cell_type": "code",
   "execution_count": null,
   "metadata": {},
   "outputs": [],
   "source": [
    "data = pd.read_csv(train_dataset_path, index_col=0)\n",
    "data.head()"
   ]
  },
  {
   "cell_type": "markdown",
   "metadata": {},
   "source": [
    "### Column Analysis\n",
    "\n",
    "* The `Grade` column is our target.\n",
    "\n",
    "* The column `Primary_Diagnosis` has 5 unique values, we will encode it with `LabelEncoder`.\n",
    "\n",
    "* Column `Case_ID` represents unique id of case, we will remove from our dataset.\n",
    "\n",
    "* The following columns represent the gen mutations.\n",
    "    ```text\n",
    "    IDH1, TP53, ATRX, PTEN, EGFR, CIC, MUC16, PIK3CA,\n",
    "    NF1, PIK3R1, FUBP1, RB1, NOTCH1, BCOR, CSMD3, SMARCA4,\n",
    "    GRIN2A, IDH2, FAT4, PDGFRA\n",
    "    ```\n",
    "    They might be only `MUTATED` or `NOT_MUTATED`, so we will encode it with `LabelEncoder`.\n",
    "\n",
    "* The binary type column `Gender` will be encoded with `LabelEncoder` too.\n",
    "\n",
    "* The `Age_at_diagnosis` column has a string representation of date. We will convert it into the numeric type.\n",
    "\n",
    "### Missing Data\n",
    "\n",
    "We detect that 4 cases has no `Age_at_diagnosis` data. We decided to remove them from training set."
   ]
  },
  {
   "cell_type": "code",
   "execution_count": null,
   "metadata": {},
   "outputs": [],
   "source": [
    "data_processing = data.copy().drop(['Case_ID'], axis=1)\n",
    "\n",
    "\n",
    "data_processing['Age_at_diagnosis'] = convert_age(data_processing['Age_at_diagnosis'])\n",
    "data_processing = data_processing.dropna(axis=0)\n",
    "\n",
    "object_columns = list(data_processing.select_dtypes(include='object').columns)\n",
    "data_processing = encode_dataset(data_processing, columns=object_columns, verbose=False)"
   ]
  },
  {
   "cell_type": "markdown",
   "metadata": {},
   "source": [
    "## Feature selection\n",
    "---\n",
    "\n",
    "To investigate the most valuable features we decided to calculate some correlation metrics."
   ]
  },
  {
   "cell_type": "code",
   "execution_count": null,
   "metadata": {},
   "outputs": [],
   "source": [
    "data_for_feature_analysis = data_processing.copy()\n",
    "training_data = normalize_dataset(data_for_feature_analysis.drop(['Grade'], axis=1))\n",
    "targets = data_for_feature_analysis['Grade']"
   ]
  },
  {
   "cell_type": "markdown",
   "metadata": {},
   "source": [
    "### Mutual information\n",
    "Mutual information is a lot like correlation in that it measures a relationship between two quantities. The advantage of mutual information is that it can detect any kind of relationship, while correlation only detects linear relationships.\n"
   ]
  },
  {
   "cell_type": "code",
   "execution_count": null,
   "metadata": {},
   "outputs": [],
   "source": [
    "correlation_estimator = get_feature_estimator(training_data, targets, method='mutual_info-classification')\n",
    "mutual_important_values = select_by_correlation_value(correlation_estimator, min_score=0.2)\n",
    "mutual_important_values"
   ]
  },
  {
   "cell_type": "markdown",
   "metadata": {},
   "source": [
    "The most valuable features are:\n",
    "```text\n",
    "Primary_Diagnosis, IDH1, Age_at_diagnosis\n",
    "```\n",
    "\n",
    "The least valuable features are:\n",
    "```text\n",
    "Gender, BCOR, FAT4, PIK3CA, Race, GRIN2A, PIK3R1\n",
    "```"
   ]
  },
  {
   "cell_type": "markdown",
   "metadata": {},
   "source": [
    "### Pearson's \n",
    "\n",
    "The Pearson correlation measures the strength of the linear relationship between two variables."
   ]
  },
  {
   "cell_type": "code",
   "execution_count": null,
   "metadata": {},
   "outputs": [],
   "source": [
    "correlation_estimator = get_feature_estimator(training_data, targets, method='pearson')\n",
    "pearson_important_values = select_by_correlation_value(correlation_estimator, min_score=0.2)\n",
    "pearson_important_values"
   ]
  },
  {
   "cell_type": "markdown",
   "metadata": {},
   "source": [
    "The most valuable features are\n",
    "```text\n",
    "IDH1, Age_at_diagnosis, PTEN, ATRX, CIC\n",
    "```\n",
    "\n",
    "The least valuable features are:\n",
    "```text\n",
    "BKOR, PIK3CA, FAT4\n",
    "```"
   ]
  },
  {
   "cell_type": "markdown",
   "metadata": {},
   "source": [
    "As result we decided to use following features:\n",
    "```text\n",
    "IDH1, Age_at_diagnosis, PTEN, ATRX, CIC, Primary_Diagnosis\n",
    "```"
   ]
  },
  {
   "cell_type": "code",
   "execution_count": null,
   "metadata": {},
   "outputs": [],
   "source": [
    "keep_columns = concat_important_features(pearson_important_values, mutual_important_values)\n",
    "training_data = training_data[keep_columns]\n",
    "training_data"
   ]
  },
  {
   "cell_type": "markdown",
   "metadata": {},
   "source": [
    "## Experiments with model"
   ]
  },
  {
   "cell_type": "code",
   "execution_count": null,
   "metadata": {},
   "outputs": [],
   "source": []
  }
 ],
 "metadata": {
  "kernelspec": {
   "display_name": "venv",
   "language": "python",
   "name": "python3"
  },
  "language_info": {
   "codemirror_mode": {
    "name": "ipython",
    "version": 3
   },
   "file_extension": ".py",
   "mimetype": "text/x-python",
   "name": "python",
   "nbconvert_exporter": "python",
   "pygments_lexer": "ipython3",
   "version": "3.9.6"
  },
  "orig_nbformat": 4
 },
 "nbformat": 4,
 "nbformat_minor": 2
}
